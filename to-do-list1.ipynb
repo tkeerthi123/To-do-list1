{
 "cells": [
  {
   "cell_type": "code",
   "execution_count": 8,
   "id": "05b5a26f-b609-4ef3-b20b-5cb623bada59",
   "metadata": {},
   "outputs": [],
   "source": [
    "import tkinter as tk\n",
    "\n",
    "def add_task():\n",
    "    task = task_entry.get()\n",
    "    if task:\n",
    "        task_listbox.insert(tk.END, task)\n",
    "        task_entry.delete(0, tk.END)\n",
    "\n",
    "def remove_task():\n",
    "    selected_task_index = task_listbox.curselection()\n",
    "    if selected_task_index:\n",
    "        task_listbox.delete(selected_task_index)\n",
    "\n",
    "# Create the main window\n",
    "root = tk.Tk()\n",
    "root.title(\"To-Do List\")\n",
    "root.geometry(\"400x650+400+100\")\n",
    "root.configure(bg=\"#c7f5f9\")  # Set background color to a light teal shade\n",
    "\n",
    "# Create a frame for buttons\n",
    "button_frame = tk.Frame(root, bg=\"#c7f5f9\")\n",
    "button_frame.pack(fill=tk.X)\n",
    "\n",
    "# Create a frame for listbox and entry\n",
    "list_frame = tk.Frame(root, bg=\"#c7f5f9\")\n",
    "list_frame.pack(fill=tk.BOTH, expand=True)\n",
    "\n",
    "# Create a listbox to display tasks\n",
    "task_listbox = tk.Listbox(list_frame, bd=0, highlightthickness=0, relief=\"flat\", font=(\"Arial\", 12), selectbackground=\"#a3e7f4\")\n",
    "task_listbox.pack(pady=10, padx=10, fill=tk.BOTH, expand=True)\n",
    "\n",
    "# Create an entry widget to add new tasks\n",
    "task_entry = tk.Entry(button_frame, font=(\"Arial\", 12))\n",
    "task_entry.pack(side=tk.LEFT, pady=5, padx=10, fill=tk.X, expand=True)\n",
    "\n",
    "# Create Add and Remove buttons\n",
    "add_button = tk.Button(button_frame, text=\"Add Task\", command=add_task, bg=\"#008080\", fg=\"white\", font=(\"Arial\", 12))\n",
    "remove_button = tk.Button(button_frame, text=\"Remove Task\", command=remove_task, bg=\"#00cccc\", fg=\"white\", font=(\"Arial\", 12))\n",
    "add_button.pack(side=tk.LEFT, pady=5, padx=5)\n",
    "remove_button.pack(side=tk.LEFT, pady=5, padx=5)\n",
    "\n",
    "# Start the Tkinter main loop\n",
    "root.mainloop()\n"
   ]
  },
  {
   "cell_type": "code",
   "execution_count": null,
   "id": "295d6e07-f1e1-481e-8247-9cd25d24e332",
   "metadata": {},
   "outputs": [],
   "source": []
  },
  {
   "cell_type": "code",
   "execution_count": null,
   "id": "9aa9087c-0a30-48e5-8258-5387bbe25253",
   "metadata": {},
   "outputs": [],
   "source": []
  },
  {
   "cell_type": "code",
   "execution_count": null,
   "id": "2c59508f-1c27-4610-b248-80e4194e7c4d",
   "metadata": {},
   "outputs": [],
   "source": []
  }
 ],
 "metadata": {
  "kernelspec": {
   "display_name": "Python 3 (ipykernel)",
   "language": "python",
   "name": "python3"
  },
  "language_info": {
   "codemirror_mode": {
    "name": "ipython",
    "version": 3
   },
   "file_extension": ".py",
   "mimetype": "text/x-python",
   "name": "python",
   "nbconvert_exporter": "python",
   "pygments_lexer": "ipython3",
   "version": "3.12.3"
  }
 },
 "nbformat": 4,
 "nbformat_minor": 5
}
